{
 "metadata": {
  "language_info": {
   "codemirror_mode": {
    "name": "ipython",
    "version": 3
   },
   "file_extension": ".py",
   "mimetype": "text/x-python",
   "name": "python",
   "nbconvert_exporter": "python",
   "pygments_lexer": "ipython3",
   "version": "3.8.5-final"
  },
  "orig_nbformat": 2,
  "kernelspec": {
   "name": "Python 3.8.5 64-bit",
   "display_name": "Python 3.8.5 64-bit",
   "metadata": {
    "interpreter": {
     "hash": "082e9a3bcad0a290d0001e938aa60b99250c6c2ef33a923c00b70f9826caf4b7"
    }
   }
  }
 },
 "nbformat": 4,
 "nbformat_minor": 2,
 "cells": [
  {
   "cell_type": "code",
   "execution_count": null,
   "metadata": {},
   "outputs": [],
   "source": [
    "from google.cloud import vision\n",
    "import os\n",
    "import io\n",
    "import json\n",
    "\n",
    "os.environ[\"GOOGLE_APPLICATION_CREDENTIALS\"] = \"/Users/tak/Desktop/temp/tak-playground-d69a7d8fcb5c.json\"\n",
    "client = vision.ImageAnnotatorClient()\n",
    "\n",
    "image_path = '/Users/tak/Desktop/temp/WhatsApp Image 2021-01-22 at 1.45.36 PM.jpeg'\n",
    "with io.open(image_path, 'rb') as image_file:\n",
    "    content = image_file.read()\n",
    "image = vision.types.Image(content=content)\n",
    "response = client.text_detection(\n",
    "    image=image)  # returns TextAnnotation\n",
    "texts = response.text_annotations\n",
    "\n",
    "    "
   ]
  },
  {
   "cell_type": "code",
   "execution_count": null,
   "metadata": {},
   "outputs": [],
   "source": [
    "# texts[2].description\n",
    "texts[0].description.split('\\n')"
   ]
  },
  {
   "cell_type": "code",
   "execution_count": null,
   "metadata": {},
   "outputs": [],
   "source": [
    "%%time\n",
    "import requests as req\n",
    "from lxml import etree\n",
    "#from bs4 import BeautifulSoup\n",
    "resp = req.get(\"https://hk.finance.yahoo.com/quote/9733.HK/history/\")\n",
    "#soup = BeautifulSoup(resp.text, 'lxml')\n",
    "content = resp.content.decode()"
   ]
  },
  {
   "cell_type": "code",
   "execution_count": null,
   "metadata": {
    "tags": []
   },
   "outputs": [],
   "source": [
    "import pandas as pd\n",
    "## parameters\n",
    "margin = 0.5\n",
    "\n",
    "df = pd.DataFrame(columns =[\"name\",\"date\",\"start\",\"h_price\",\"l_price\",\"f_price\",\"real_f_price\",\"volume\",\"margin\"])\n",
    "\n",
    "html = etree.HTML(content)\n",
    "stock_id='0001'"
   ]
  },
  {
   "cell_type": "code",
   "execution_count": null,
   "metadata": {},
   "outputs": [],
   "source": []
  },
  {
   "cell_type": "code",
   "execution_count": null,
   "metadata": {},
   "outputs": [],
   "source": [
    "import pandas as pd\n",
    "import requests as req\n",
    "from lxml import etree\n",
    "from multiprocessing.pool import ThreadPool\n",
    "from functools import partial\n",
    "\n",
    "class S_W_old():\n",
    "    def __init__(self,l,margin):\n",
    "        self.list= l\n",
    "        self.margin = margin\n",
    "        self.df = pd.DataFrame(columns =[\"name\",\"date\",\"start\",\"h_price\",\"l_price\",\"f_price\",\"real_f_price\",\"volume\",\"margin\"])\n",
    "    \n",
    "    def scrape(self,stock_id):\n",
    "    # for stock_id in self.list:\n",
    "        resp = req.get(f\"https://hk.finance.yahoo.com/quote/{stock_id}.HK/history/\")\n",
    "        content = resp.content.decode()\n",
    "        html = etree.HTML(content)\n",
    "        num = len(html.xpath('/html/body/div[1]/div/div/div[1]/div/div[3]/div[1]/div/div[2]/div/div/section/div[2]/table/tbody/*/td[1]/span/text()'))\n",
    "        if num != 0:\n",
    "            # for i in range(1,num+1):\n",
    "            for i in range(2,4):\n",
    "                to_append=[]\n",
    "                for j in range(9):\n",
    "                    if j == 0:\n",
    "                        to_append.append(stock_id)\n",
    "                    elif j == 7:\n",
    "                        to_append.append(html.xpath(f'/html/body/div[1]/div/div/div[1]/div/div[3]/div[1]/div/div[2]/div/div/section/div[2]/table/tbody/tr[{i}]/td[{j}]/span/text()')[0].replace(',',''))\n",
    "                    elif j == 8:\n",
    "                        to_append.append('N')\n",
    "                    else:\n",
    "                        try:\n",
    "                            to_append.append(html.xpath(f'/html/body/div[1]/div/div/div[1]/div/div[3]/div[1]/div/div[2]/div/div/section/div[2]/table/tbody/tr[{i}]/td[{j}]/span/text()')[0])\n",
    "                        except:\n",
    "                                to_append.append(0)\n",
    "                a_series = pd.Series(to_append, index = df.columns)\n",
    "                self.df = self.df.append(a_series, ignore_index=True)\n",
    "            ##change type and check margin\n",
    "            self.df[[\"start\",\"h_price\",\"l_price\",\"f_price\",\"real_f_price\",\"volume\"]]=self.df[[\"start\",\"h_price\",\"l_price\",\"f_price\",\"real_f_price\",\"volume\"]].apply(pd.to_numeric)\n",
    "            if (self.df[self.df['name'] == stock_id]['volume'].iloc[0] - self.df[self.df['name'] == stock_id]['volume'].iloc[1])/self.df[self.df['name'] == stock_id]['volume'].iloc[1] > self.margin:\n",
    "                self.df.loc[self.df['name'] == stock_id,\"margin\"] ='Y'\n",
    "    # return self.df\n",
    "    def main(self):\n",
    "        for i in self.list:\n",
    "            self.scrape(i)\n",
    "        return self.df"
   ]
  },
  {
   "cell_type": "code",
   "execution_count": null,
   "metadata": {},
   "outputs": [],
   "source": [
    "#df[df['name'] == '2126'].groupby('name')['volume'].pct_change()\n",
    "df"
   ]
  },
  {
   "cell_type": "code",
   "execution_count": null,
   "metadata": {},
   "outputs": [],
   "source": [
    "# df[df['name'] == stock_id][\"margin\"]=df[df['name'] == stock_id][\"margin\"].apply(lambda x : x.replace('N','Y'))\n",
    "#df.loc[df['name'] == stock_id,\"margin\"] ='Y'"
   ]
  },
  {
   "cell_type": "code",
   "execution_count": null,
   "metadata": {},
   "outputs": [],
   "source": [
    "df"
   ]
  },
  {
   "cell_type": "code",
   "execution_count": 7,
   "metadata": {},
   "outputs": [],
   "source": [
    "import pandas as pd\n",
    "import requests as req\n",
    "from lxml import etree\n",
    "from multiprocessing.pool import ThreadPool\n",
    "from functools import partial\n",
    "\n",
    "class S_W():\n",
    "    def __init__(self,l,margin):\n",
    "        self.list= l\n",
    "        self.margin = margin\n",
    "        self.df = pd.DataFrame(columns =[\"name\",\"date\",\"start\",\"h_price\",\"l_price\",\"f_price\",\"real_f_price\",\"volume\",\"margin\"])\n",
    "    \n",
    "    def scrape(self,stock_id):\n",
    "    # for stock_id in self.list:\n",
    "        resp = req.get(f\"https://hk.finance.yahoo.com/quote/{stock_id}.HK/history/\")\n",
    "        content = resp.content.decode()\n",
    "        html = etree.HTML(content)\n",
    "        num = len(html.xpath('/html/body/div[1]/div/div/div[1]/div/div[3]/div[1]/div/div[2]/div/div/section/div[2]/table/tbody/*/td[1]/span/text()'))\n",
    "        if num != 0:\n",
    "            # for i in range(1,num+1):\n",
    "            for i in range(1,3):\n",
    "                to_append=[]\n",
    "                for j in range(9):\n",
    "                    if j == 0:\n",
    "                        to_append.append(stock_id)\n",
    "                    elif j == 7:\n",
    "                        try:\n",
    "                            to_append.append(html.xpath(f'/html/body/div[1]/div/div/div[1]/div/div[3]/div[1]/div/div[2]/div/div/section/div[2]/table/tbody/tr[{i}]/td[{j}]/span/text()')[0].replace(',',''))\n",
    "                        except:\n",
    "                            to_append.append(0)\n",
    "                    elif j == 8:\n",
    "                        to_append.append('N')\n",
    "                    else:\n",
    "                        try:\n",
    "                            to_append.append(html.xpath(f'/html/body/div[1]/div/div/div[1]/div/div[3]/div[1]/div/div[2]/div/div/section/div[2]/table/tbody/tr[{i}]/td[{j}]/span/text()')[0].replace(',',''))\n",
    "                        except:\n",
    "                                to_append.append(0)\n",
    "                a_series = pd.Series(to_append, index = self.df.columns)\n",
    "                self.df = self.df.append(a_series, ignore_index=True)\n",
    "            ##change type and check margin\n",
    "            self.df[[\"start\",\"h_price\",\"l_price\",\"f_price\",\"real_f_price\",\"volume\"]]=self.df[[\"start\",\"h_price\",\"l_price\",\"f_price\",\"real_f_price\",\"volume\"]].apply(pd.to_numeric)\n",
    "            if (self.df[self.df['name'] == stock_id]['volume'].iloc[0] - self.df[self.df['name'] == stock_id]['volume'].iloc[1])/self.df[self.df['name'] == stock_id]['volume'].iloc[1] > self.margin:\n",
    "                self.df.loc[self.df['name'] == stock_id,\"margin\"] ='Y'\n",
    "    # return self.df\n",
    "    def main(self):\n",
    "        with ThreadPool(20) as pool:\n",
    "            pool.map(self.scrape,self.list)\n",
    "            pool.close()\n",
    "            pool.join()\n",
    "        return self.df\n",
    "\n",
    "\n"
   ]
  },
  {
   "cell_type": "code",
   "execution_count": 8,
   "metadata": {},
   "outputs": [
    {
     "output_type": "error",
     "ename": "NameError",
     "evalue": "name 'S_W_old' is not defined",
     "traceback": [
      "\u001b[0;31m---------------------------------------------------------------------------\u001b[0m",
      "\u001b[0;31mNameError\u001b[0m                                 Traceback (most recent call last)",
      "\u001b[0;32m<timed exec>\u001b[0m in \u001b[0;36m<module>\u001b[0;34m\u001b[0m\n",
      "\u001b[0;31mNameError\u001b[0m: name 'S_W_old' is not defined"
     ]
    }
   ],
   "source": [
    "%%time\n",
    "Test = S_W_old(['2158','2126','6999','6969','0369','9988','1093','6969','0388','6618'],2)\n",
    "D = Test.main()\n",
    "D\n",
    "##1min17s\n"
   ]
  },
  {
   "cell_type": "code",
   "execution_count": 10,
   "metadata": {},
   "outputs": [
    {
     "output_type": "execute_result",
     "data": {
      "text/plain": [
       "    name        date  start  h_price  l_price  f_price  real_f_price   volume  \\\n",
       "4   9900  2021年1月27日  1.420    1.420    1.390    1.390         1.390    80000   \n",
       "5   9900  2021年1月26日  1.480    1.480    1.480    1.480         1.480        0   \n",
       "32  9919  2021年1月28日  0.850    0.880    0.850    0.870         0.870   576000   \n",
       "33  9919  2021年1月27日  0.870    0.870    0.860    0.870         0.870   114000   \n",
       "46  9977  2021年1月28日  3.230    3.240    2.980    3.030         3.030  6401000   \n",
       "47  9977  2021年1月27日  3.370    3.400    3.170    3.280         3.280  1895000   \n",
       "60  9998  2021年1月27日  0.235    0.235    0.210    0.223         0.223  1175000   \n",
       "61  9998  2021年1月26日  0.211    0.228    0.211    0.228         0.228    55000   \n",
       "68  9983  2021年1月28日  7.680    7.960    7.490    7.550         7.550  6905000   \n",
       "69  9983  2021年1月27日  7.580    7.580    7.150    7.400         7.400  2263000   \n",
       "\n",
       "   margin  \n",
       "4       Y  \n",
       "5       Y  \n",
       "32      Y  \n",
       "33      Y  \n",
       "46      Y  \n",
       "47      Y  \n",
       "60      Y  \n",
       "61      Y  \n",
       "68      Y  \n",
       "69      Y  "
      ],
      "text/html": "<div>\n<style scoped>\n    .dataframe tbody tr th:only-of-type {\n        vertical-align: middle;\n    }\n\n    .dataframe tbody tr th {\n        vertical-align: top;\n    }\n\n    .dataframe thead th {\n        text-align: right;\n    }\n</style>\n<table border=\"1\" class=\"dataframe\">\n  <thead>\n    <tr style=\"text-align: right;\">\n      <th></th>\n      <th>name</th>\n      <th>date</th>\n      <th>start</th>\n      <th>h_price</th>\n      <th>l_price</th>\n      <th>f_price</th>\n      <th>real_f_price</th>\n      <th>volume</th>\n      <th>margin</th>\n    </tr>\n  </thead>\n  <tbody>\n    <tr>\n      <th>4</th>\n      <td>9900</td>\n      <td>2021年1月27日</td>\n      <td>1.420</td>\n      <td>1.420</td>\n      <td>1.390</td>\n      <td>1.390</td>\n      <td>1.390</td>\n      <td>80000</td>\n      <td>Y</td>\n    </tr>\n    <tr>\n      <th>5</th>\n      <td>9900</td>\n      <td>2021年1月26日</td>\n      <td>1.480</td>\n      <td>1.480</td>\n      <td>1.480</td>\n      <td>1.480</td>\n      <td>1.480</td>\n      <td>0</td>\n      <td>Y</td>\n    </tr>\n    <tr>\n      <th>32</th>\n      <td>9919</td>\n      <td>2021年1月28日</td>\n      <td>0.850</td>\n      <td>0.880</td>\n      <td>0.850</td>\n      <td>0.870</td>\n      <td>0.870</td>\n      <td>576000</td>\n      <td>Y</td>\n    </tr>\n    <tr>\n      <th>33</th>\n      <td>9919</td>\n      <td>2021年1月27日</td>\n      <td>0.870</td>\n      <td>0.870</td>\n      <td>0.860</td>\n      <td>0.870</td>\n      <td>0.870</td>\n      <td>114000</td>\n      <td>Y</td>\n    </tr>\n    <tr>\n      <th>46</th>\n      <td>9977</td>\n      <td>2021年1月28日</td>\n      <td>3.230</td>\n      <td>3.240</td>\n      <td>2.980</td>\n      <td>3.030</td>\n      <td>3.030</td>\n      <td>6401000</td>\n      <td>Y</td>\n    </tr>\n    <tr>\n      <th>47</th>\n      <td>9977</td>\n      <td>2021年1月27日</td>\n      <td>3.370</td>\n      <td>3.400</td>\n      <td>3.170</td>\n      <td>3.280</td>\n      <td>3.280</td>\n      <td>1895000</td>\n      <td>Y</td>\n    </tr>\n    <tr>\n      <th>60</th>\n      <td>9998</td>\n      <td>2021年1月27日</td>\n      <td>0.235</td>\n      <td>0.235</td>\n      <td>0.210</td>\n      <td>0.223</td>\n      <td>0.223</td>\n      <td>1175000</td>\n      <td>Y</td>\n    </tr>\n    <tr>\n      <th>61</th>\n      <td>9998</td>\n      <td>2021年1月26日</td>\n      <td>0.211</td>\n      <td>0.228</td>\n      <td>0.211</td>\n      <td>0.228</td>\n      <td>0.228</td>\n      <td>55000</td>\n      <td>Y</td>\n    </tr>\n    <tr>\n      <th>68</th>\n      <td>9983</td>\n      <td>2021年1月28日</td>\n      <td>7.680</td>\n      <td>7.960</td>\n      <td>7.490</td>\n      <td>7.550</td>\n      <td>7.550</td>\n      <td>6905000</td>\n      <td>Y</td>\n    </tr>\n    <tr>\n      <th>69</th>\n      <td>9983</td>\n      <td>2021年1月27日</td>\n      <td>7.580</td>\n      <td>7.580</td>\n      <td>7.150</td>\n      <td>7.400</td>\n      <td>7.400</td>\n      <td>2263000</td>\n      <td>Y</td>\n    </tr>\n  </tbody>\n</table>\n</div>"
     },
     "metadata": {},
     "execution_count": 10
    }
   ],
   "source": [
    "D[D[\"margin\"] == 'Y']"
   ]
  },
  {
   "cell_type": "code",
   "execution_count": 9,
   "metadata": {},
   "outputs": [
    {
     "output_type": "stream",
     "name": "stdout",
     "text": [
      "CPU times: user 6.33 s, sys: 593 ms, total: 6.92 s\nWall time: 59.5 s\n"
     ]
    },
    {
     "output_type": "execute_result",
     "data": {
      "text/plain": [
       "    name        date    start  h_price  l_price  f_price  real_f_price  \\\n",
       "0   9922  2021年1月28日   27.000   28.150   26.300   27.000        27.000   \n",
       "1   9922  2021年1月27日   28.800   29.200   26.600   27.450        27.450   \n",
       "2   9938  2021年1月28日    0.125    0.125    0.118    0.121         0.121   \n",
       "3   9938  2021年1月27日    0.122    0.122    0.113    0.120         0.120   \n",
       "4   9900  2021年1月27日    1.420    1.420    1.390    1.390         1.390   \n",
       "..   ...         ...      ...      ...      ...      ...           ...   \n",
       "77  9993  2021年1月27日    4.380    4.480    4.300    4.480         4.480   \n",
       "78  9991  2021年1月28日  112.000  113.200  108.000  108.200       108.200   \n",
       "79  9991  2021年1月27日  105.800  125.000  105.800  120.000       120.000   \n",
       "80  9999  2021年1月28日  184.300  184.600  177.300  178.800       178.800   \n",
       "81  9999  2021年1月27日  186.000  190.000  178.600  187.900       187.900   \n",
       "\n",
       "      volume margin  \n",
       "0   13200401      N  \n",
       "1   10728081      N  \n",
       "2     255000      N  \n",
       "3    2820000      N  \n",
       "4      80000      Y  \n",
       "..       ...    ...  \n",
       "77   2591000      N  \n",
       "78    376062      N  \n",
       "79   3343345      N  \n",
       "80   5639066      N  \n",
       "81   5474225      N  \n",
       "\n",
       "[82 rows x 9 columns]"
      ],
      "text/html": "<div>\n<style scoped>\n    .dataframe tbody tr th:only-of-type {\n        vertical-align: middle;\n    }\n\n    .dataframe tbody tr th {\n        vertical-align: top;\n    }\n\n    .dataframe thead th {\n        text-align: right;\n    }\n</style>\n<table border=\"1\" class=\"dataframe\">\n  <thead>\n    <tr style=\"text-align: right;\">\n      <th></th>\n      <th>name</th>\n      <th>date</th>\n      <th>start</th>\n      <th>h_price</th>\n      <th>l_price</th>\n      <th>f_price</th>\n      <th>real_f_price</th>\n      <th>volume</th>\n      <th>margin</th>\n    </tr>\n  </thead>\n  <tbody>\n    <tr>\n      <th>0</th>\n      <td>9922</td>\n      <td>2021年1月28日</td>\n      <td>27.000</td>\n      <td>28.150</td>\n      <td>26.300</td>\n      <td>27.000</td>\n      <td>27.000</td>\n      <td>13200401</td>\n      <td>N</td>\n    </tr>\n    <tr>\n      <th>1</th>\n      <td>9922</td>\n      <td>2021年1月27日</td>\n      <td>28.800</td>\n      <td>29.200</td>\n      <td>26.600</td>\n      <td>27.450</td>\n      <td>27.450</td>\n      <td>10728081</td>\n      <td>N</td>\n    </tr>\n    <tr>\n      <th>2</th>\n      <td>9938</td>\n      <td>2021年1月28日</td>\n      <td>0.125</td>\n      <td>0.125</td>\n      <td>0.118</td>\n      <td>0.121</td>\n      <td>0.121</td>\n      <td>255000</td>\n      <td>N</td>\n    </tr>\n    <tr>\n      <th>3</th>\n      <td>9938</td>\n      <td>2021年1月27日</td>\n      <td>0.122</td>\n      <td>0.122</td>\n      <td>0.113</td>\n      <td>0.120</td>\n      <td>0.120</td>\n      <td>2820000</td>\n      <td>N</td>\n    </tr>\n    <tr>\n      <th>4</th>\n      <td>9900</td>\n      <td>2021年1月27日</td>\n      <td>1.420</td>\n      <td>1.420</td>\n      <td>1.390</td>\n      <td>1.390</td>\n      <td>1.390</td>\n      <td>80000</td>\n      <td>Y</td>\n    </tr>\n    <tr>\n      <th>...</th>\n      <td>...</td>\n      <td>...</td>\n      <td>...</td>\n      <td>...</td>\n      <td>...</td>\n      <td>...</td>\n      <td>...</td>\n      <td>...</td>\n      <td>...</td>\n    </tr>\n    <tr>\n      <th>77</th>\n      <td>9993</td>\n      <td>2021年1月27日</td>\n      <td>4.380</td>\n      <td>4.480</td>\n      <td>4.300</td>\n      <td>4.480</td>\n      <td>4.480</td>\n      <td>2591000</td>\n      <td>N</td>\n    </tr>\n    <tr>\n      <th>78</th>\n      <td>9991</td>\n      <td>2021年1月28日</td>\n      <td>112.000</td>\n      <td>113.200</td>\n      <td>108.000</td>\n      <td>108.200</td>\n      <td>108.200</td>\n      <td>376062</td>\n      <td>N</td>\n    </tr>\n    <tr>\n      <th>79</th>\n      <td>9991</td>\n      <td>2021年1月27日</td>\n      <td>105.800</td>\n      <td>125.000</td>\n      <td>105.800</td>\n      <td>120.000</td>\n      <td>120.000</td>\n      <td>3343345</td>\n      <td>N</td>\n    </tr>\n    <tr>\n      <th>80</th>\n      <td>9999</td>\n      <td>2021年1月28日</td>\n      <td>184.300</td>\n      <td>184.600</td>\n      <td>177.300</td>\n      <td>178.800</td>\n      <td>178.800</td>\n      <td>5639066</td>\n      <td>N</td>\n    </tr>\n    <tr>\n      <th>81</th>\n      <td>9999</td>\n      <td>2021年1月27日</td>\n      <td>186.000</td>\n      <td>190.000</td>\n      <td>178.600</td>\n      <td>187.900</td>\n      <td>187.900</td>\n      <td>5474225</td>\n      <td>N</td>\n    </tr>\n  </tbody>\n</table>\n<p>82 rows × 9 columns</p>\n</div>"
     },
     "metadata": {},
     "execution_count": 9
    }
   ],
   "source": [
    "%%time\n",
    "# Test = S_W(['2158','2126','6999','6969','0369','9988','1093','6969','0388','6618'],0.5)\n",
    "# D = Test.main()\n",
    "# D\n",
    "##12.8s 1min 34s 26.7 s\n",
    "temp_list = [str(i) for i in range(9900,10000)]\n",
    "#temp_list = ['2338']\n",
    "Test = S_W(temp_list,2)\n",
    "D = Test.main()\n",
    "D"
   ]
  }
 ]
}